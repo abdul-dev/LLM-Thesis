{
  "cells": [
    {
      "cell_type": "code",
      "execution_count": null,
      "metadata": {
        "id": "eKqkE6Qx3Piq",
        "outputId": "87baca0e-605b-4751-bbff-d297b61da24b"
      },
      "outputs": [
        {
          "name": "stdout",
          "output_type": "stream",
          "text": [
            "CUDA Available: True\n",
            "GPU Name: NVIDIA RTX A4000\n"
          ]
        }
      ],
      "source": [
        "import torch\n",
        "print(\"CUDA Available:\", torch.cuda.is_available())\n",
        "print(\"GPU Name:\", torch.cuda.get_device_name(0) if torch.cuda.is_available() else \"No GPU found\")\n"
      ]
    },
    {
      "cell_type": "code",
      "execution_count": null,
      "metadata": {
        "id": "Mcx7_5-k3Pis",
        "outputId": "ad3bdfa1-5fda-4f00-a4e1-f1edf2e5ec0d"
      },
      "outputs": [
        {
          "name": "stdout",
          "output_type": "stream",
          "text": [
            "Implement the demodulation rule in Prolog to handle equality reasoning in first-order logic.a) Define a Prolog predicate `demodulate/3` that takes a term `T`, a variable `V`, and a predicate `P` as arguments.\n",
            "b) Implement the demodulation rule in Prolog using the `demodulate/3` predicate to handle equality reasoning.\n",
            "c) Define a Prolog program that demonstrates the usage of the `demodulate/3` predicate and equality reasoning.\n",
            "d) Analyze the performance of the `demodulate/3` predicate for a large dataset of terms and predicates.\n",
            "e) Extend the `demodulate/3` predicate to support disjunction and negation in equality reasoning.- The Prolog program should be written in a readable and well-structured manner.\n",
            "- The `demodulate/3` predicate should handle variable binding and unification.\n",
            "- The program should demonstrate the correct usage of the `demodulate/3` predicate for equality reasoning.\n",
            "- The performance analysis should be based on a realistic dataset and benchmarking metrics.\n"
          ]
        }
      ],
      "source": [
        "import json\n",
        "import re\n",
        "\n",
        "# Define the regex pattern to remove **, \\n\\n, and text between **\n",
        "pattern = r\"\\*\\*.*?\\*\\*|\\n\\n\"\n",
        "\n",
        "# Read JSON file\n",
        "with open(\"processed_questions.json\", \"r\", encoding=\"utf-8\") as file:\n",
        "    data = json.load(file)  # Load JSON data\n",
        "\n",
        "# Loop through each item and clean the 'question' field\n",
        "for item in data:\n",
        "    if \"question\" in item:\n",
        "        item[\"question\"] = re.sub(pattern, '', item[\"question\"]).strip()\n",
        "\n",
        "# Save the cleaned data back to a new JSON file\n",
        "with open(\"cleaned_questions-Removed-Pres.json\", \"w\", encoding=\"utf-8\") as file:\n",
        "    json.dump(data, file, indent=4, ensure_ascii=False)\n",
        "\n",
        "# Print cleaned questions\n",
        "for item in data:\n",
        "    print(item[\"question\"])\n"
      ]
    }
  ],
  "metadata": {
    "kernelspec": {
      "display_name": "Python 3",
      "language": "python",
      "name": "python3"
    },
    "language_info": {
      "codemirror_mode": {
        "name": "ipython",
        "version": 3
      },
      "file_extension": ".py",
      "mimetype": "text/x-python",
      "name": "python",
      "nbconvert_exporter": "python",
      "pygments_lexer": "ipython3",
      "version": "3.9.13"
    },
    "colab": {
      "provenance": []
    }
  },
  "nbformat": 4,
  "nbformat_minor": 0
}